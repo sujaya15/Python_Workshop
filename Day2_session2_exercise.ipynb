{
  "nbformat": 4,
  "nbformat_minor": 0,
  "metadata": {
    "colab": {
      "name": "Day2_session2_exercise.ipynb",
      "provenance": [],
      "authorship_tag": "ABX9TyOTnZf9A+OopNgIkEfrNobr",
      "include_colab_link": true
    },
    "kernelspec": {
      "name": "python3",
      "display_name": "Python 3"
    }
  },
  "cells": [
    {
      "cell_type": "markdown",
      "metadata": {
        "id": "view-in-github",
        "colab_type": "text"
      },
      "source": [
        "<a href=\"https://colab.research.google.com/github/sujaya15/Python_Workshop/blob/master/Day2_session2_exercise.ipynb\" target=\"_parent\"><img src=\"https://colab.research.google.com/assets/colab-badge.svg\" alt=\"Open In Colab\"/></a>"
      ]
    },
    {
      "cell_type": "code",
      "metadata": {
        "id": "5xzG44TUJMl5",
        "colab_type": "code",
        "colab": {}
      },
      "source": [
        ""
      ],
      "execution_count": null,
      "outputs": []
    },
    {
      "cell_type": "markdown",
      "metadata": {
        "id": "P2EREr0AuT_q",
        "colab_type": "text"
      },
      "source": [
        "1)1.\tAdd rollno and marks {name:mark} for n number of students through keyboard in a dictionary and print the marks in descending order with respective name."
      ]
    },
    {
      "cell_type": "code",
      "metadata": {
        "id": "97tUb06iuV0j",
        "colab_type": "code",
        "colab": {
          "base_uri": "https://localhost:8080/",
          "height": 255
        },
        "outputId": "745b6d8d-c3d8-47b2-eb07-ac5935b96de6"
      },
      "source": [
        "dict={}\n",
        "n=int(input(\"enter the no of students\"))\n",
        "for i in range(n):\n",
        "  name=input(\"Enter the name\")\n",
        "  marks=int(input(\"Enter the marks\"))\n",
        "  dict[name]=marks\n",
        "print(dict)\n",
        "d1=dict.items()\n",
        "sort=sorted(d1,reverse=True);\n",
        "print(\"The sorted dictionary is\")\n",
        "print(sort)"
      ],
      "execution_count": null,
      "outputs": [
        {
          "output_type": "stream",
          "text": [
            "enter the no of students5\n",
            "Enter the namearni\n",
            "Enter the marks95\n",
            "Enter the nameseema\n",
            "Enter the marks96\n",
            "Enter the nametanu\n",
            "Enter the marks92\n",
            "Enter the nameziva\n",
            "Enter the marks88\n",
            "Enter the nameyami\n",
            "Enter the marks88\n",
            "{'arni': 95, 'seema': 96, 'tanu': 92, 'ziva': 88, 'yami': 88}\n",
            "The sorted dictionary is\n",
            "[('ziva', 88), ('yami', 88), ('tanu', 92), ('seema', 96), ('arni', 95)]\n"
          ],
          "name": "stdout"
        }
      ]
    },
    {
      "cell_type": "markdown",
      "metadata": {
        "id": "Bwwi6onqF9fG",
        "colab_type": "text"
      },
      "source": [
        "2.\tAdd  name and salary {name:salary} for n number of employees through keyboard in a dictionary and print them in name alphabetical order with salary"
      ]
    },
    {
      "cell_type": "code",
      "metadata": {
        "id": "GBi8ph7LGhbS",
        "colab_type": "code",
        "colab": {
          "base_uri": "https://localhost:8080/",
          "height": 255
        },
        "outputId": "b808bd18-33d9-4a46-d021-aca4e0eac299"
      },
      "source": [
        "dict={}\n",
        "n=int(input(\"enter the no of employees\"))\n",
        "for i in range(n):\n",
        "  name=input(\"Enter the name\")\n",
        "  marks=int(input(\"Enter the salary\"))\n",
        "  dict[name]=marks\n",
        "print(dict)\n",
        "d1=dict.items()\n",
        "sort=sorted(d1);\n",
        "print(\"The sorted dictionary is\")\n",
        "print(sort)"
      ],
      "execution_count": null,
      "outputs": [
        {
          "output_type": "stream",
          "text": [
            "enter the no of employees5\n",
            "Enter the namesiya\n",
            "Enter the salary20000\n",
            "Enter the namearni\n",
            "Enter the salary20033\n",
            "Enter the nametina\n",
            "Enter the salary25000\n",
            "Enter the namenaksh\n",
            "Enter the salary21000\n",
            "Enter the namesiri\n",
            "Enter the salary18000\n",
            "{'siya': 20000, 'arni': 20033, 'tina': 25000, 'naksh': 21000, 'siri': 18000}\n",
            "The sorted dictionary is\n",
            "[('arni', 20033), ('naksh', 21000), ('siri', 18000), ('siya', 20000), ('tina', 25000)]\n"
          ],
          "name": "stdout"
        }
      ]
    },
    {
      "cell_type": "markdown",
      "metadata": {
        "id": "LD1CCfnKIGbl",
        "colab_type": "text"
      },
      "source": [
        "3.\tAdd  name and salary {name:salary} for n number of employees through keyboard in a dictionary and print them in salary  ascending order and  sum, max, min and average of the salaries"
      ]
    },
    {
      "cell_type": "code",
      "metadata": {
        "id": "dYwRExJ8J94w",
        "colab_type": "code",
        "colab": {
          "base_uri": "https://localhost:8080/",
          "height": 374
        },
        "outputId": "3b69baf1-c47d-4574-d676-d788bb1ffc47"
      },
      "source": [
        "import statistics\n",
        "dict={}\n",
        "n=int(input(\"enter the no of employees\"))\n",
        "for i in range(n):\n",
        "  name=input(\"Enter the name\")\n",
        "  marks=int(input(\"Enter the salary\"))\n",
        "  dict[name]=marks\n",
        "print(dict)\n",
        "sort=sorted(dict.items(),key=lambda x:x[1]);\n",
        "print(\"The sorted dictionary is\")\n",
        "print(sort)\n",
        "print(\"The sum is\")\n",
        "print(sum(dict.values()))\n",
        "print(\"the maximum is\")\n",
        "max_val=max(dict,key=dict.get)\n",
        "print(max_val)\n",
        "print(\"the minimum is\")\n",
        "min_val=min(dict,key=dict.get)\n",
        "print(min_val)\n",
        " \n",
        "mean= statistics.mean(dict.values()) \n",
        " \n",
        "print(\"The average of salary is\",mean)"
      ],
      "execution_count": null,
      "outputs": [
        {
          "output_type": "stream",
          "text": [
            "enter the no of employees5\n",
            "Enter the nameseema\n",
            "Enter the salary20000\n",
            "Enter the namesiri\n",
            "Enter the salary10000\n",
            "Enter the nametanvi\n",
            "Enter the salary15000\n",
            "Enter the namerita\n",
            "Enter the salary18000\n",
            "Enter the nameziva\n",
            "Enter the salary25000\n",
            "{'seema': 20000, 'siri': 10000, 'tanvi': 15000, 'rita': 18000, 'ziva': 25000}\n",
            "The sorted dictionary is\n",
            "[('siri', 10000), ('tanvi', 15000), ('rita', 18000), ('seema', 20000), ('ziva', 25000)]\n",
            "The sum is\n",
            "88000\n",
            "the maximum is\n",
            "ziva\n",
            "the minimum is\n",
            "siri\n",
            "The average of salary is 17600\n"
          ],
          "name": "stdout"
        }
      ]
    },
    {
      "cell_type": "markdown",
      "metadata": {
        "id": "Yx2-pkz_Ttp6",
        "colab_type": "text"
      },
      "source": [
        "4.\tAdd name and salary {name:salary} for n number of employees through keyboard in a dictionary and print only the employees whose salary is greater than 2000 but less than 4000"
      ]
    },
    {
      "cell_type": "code",
      "metadata": {
        "id": "LPzcQPmTT1wu",
        "colab_type": "code",
        "colab": {
          "base_uri": "https://localhost:8080/",
          "height": 238
        },
        "outputId": "fc548ed7-5453-4328-f038-40d20b243fee"
      },
      "source": [
        "dict={}\n",
        "n=int(input(\"enter the no of employees\"))\n",
        "for i in range(n):\n",
        "  name=input(\"Enter the name\")\n",
        "  marks=int(input(\"Enter the salary\"))\n",
        "  dict[name]=marks\n",
        "print(dict)\n",
        "res={key:val for key, val in dict.items() if val>2000 and val<4000}\n",
        "print(res)"
      ],
      "execution_count": null,
      "outputs": [
        {
          "output_type": "stream",
          "text": [
            "enter the no of employees5\n",
            "Enter the namesiri\n",
            "Enter the salary4000\n",
            "Enter the namesam\n",
            "Enter the salary2500\n",
            "Enter the nametanvi\n",
            "Enter the salary1500\n",
            "Enter the nameravi\n",
            "Enter the salary3000\n",
            "Enter the namesiya\n",
            "Enter the salary4500\n",
            "{'siri': 4000, 'sam': 2500, 'tanvi': 1500, 'ravi': 3000, 'siya': 4500}\n",
            "{'sam': 2500, 'ravi': 3000}\n"
          ],
          "name": "stdout"
        }
      ]
    },
    {
      "cell_type": "markdown",
      "metadata": {
        "id": "CtE94nU-Wbem",
        "colab_type": "text"
      },
      "source": [
        "5.\tPython program to convert a 3 digit number  into words"
      ]
    },
    {
      "cell_type": "code",
      "metadata": {
        "id": "ggl6tSmsWikv",
        "colab_type": "code",
        "colab": {
          "base_uri": "https://localhost:8080/",
          "height": 51
        },
        "outputId": "1250dd87-efb5-4e68-9037-4ea6e73f15f2"
      },
      "source": [
        "d={0:'',1:'one',2:'two',3:'three',4:'four',5:'five',6:'six',7:'seven',8:'eight',9:'nine',\\\n",
        "   10:'ten',11:'eleven',12:'twelve',13:'thirteen',14:'fourteen',15:'fifteen',16:'sixteen',\\\n",
        "   17:'seventeen',18:'eightteen',19:'nineteen',20:'twenty',30:'thirty',40:'fourty',50:'fifty',\\\n",
        "   60:'sixty',70:'seventy',80:'eighty',90:'ninty',100:'hundred',200:'twohundred',300:'threehundred',400:'fourhundred',500:'fivehundred',600:'sixhundred',700:'sevenhundred',800:'eighthundred',900:'ninehundred'}\n",
        "num=int(input(\"Enter the integer between 1 to 999:\"))\n",
        "if (num<=20):\n",
        "      print(d[num])\n",
        "if(num>20 and num<1000):\n",
        "        if num%10==0:       \n",
        "            print(d[num])\n",
        "        else:\n",
        "            print(d[num//10*10]+\" \"+d[num%10])\n",
        "\n"
      ],
      "execution_count": null,
      "outputs": [
        {
          "output_type": "stream",
          "text": [
            "Enter the integer between 1 to 999:99\n",
            "ninty nine\n"
          ],
          "name": "stdout"
        }
      ]
    },
    {
      "cell_type": "markdown",
      "metadata": {
        "id": "-55osqINbLIV",
        "colab_type": "text"
      },
      "source": [
        "1.Python Program to count the total number of charaters (except blank space) in a text file"
      ]
    },
    {
      "cell_type": "code",
      "metadata": {
        "id": "gspG2XnCbTt_",
        "colab_type": "code",
        "colab": {
          "base_uri": "https://localhost:8080/",
          "height": 51
        },
        "outputId": "29a6a107-d737-4ae2-8cdd-8bfe651e9562"
      },
      "source": [
        "fname = input(\"Enter the name of the file:\")\n",
        "infile = open(fname, 'r')\n",
        "lines = 0\n",
        "words = 0\n",
        "characters = 0\n",
        "for line in infile:\n",
        "    wordslist = line.split()\n",
        "    lines = lines + 1\n",
        "    words = words + len(wordslist)\n",
        "    characters = characters + len(line)\n",
        "print(characters)\n"
      ],
      "execution_count": null,
      "outputs": [
        {
          "output_type": "stream",
          "text": [
            "Enter the name of the file:/content/file1.txt\n",
            "56\n"
          ],
          "name": "stdout"
        }
      ]
    },
    {
      "cell_type": "markdown",
      "metadata": {
        "id": "BiOlvaitdG20",
        "colab_type": "text"
      },
      "source": [
        "2.Python Program to print all the numbers present in a text file with its total number of occurrence"
      ]
    },
    {
      "cell_type": "code",
      "metadata": {
        "id": "datE-mD4dMo6",
        "colab_type": "code",
        "colab": {
          "base_uri": "https://localhost:8080/",
          "height": 51
        },
        "outputId": "1385526e-05bc-4db8-837c-45d612bd3f50"
      },
      "source": [
        "fname = input(\"Enter the name of the file:\")\n",
        "infile = open(fname, 'r')\n",
        "content = infile.readlines() \n",
        "a = 0\n",
        "for line in content: \n",
        "    for i in line:  \n",
        "        if i.isdigit() == True: \n",
        "          a=a+1\n",
        "print(\"The total numbers in a text file is:\", a) "
      ],
      "execution_count": null,
      "outputs": [
        {
          "output_type": "stream",
          "text": [
            "Enter the name of the file:/content/file1.txt\n",
            "The total numbers in a text file is: 3\n"
          ],
          "name": "stdout"
        }
      ]
    },
    {
      "cell_type": "markdown",
      "metadata": {
        "id": "OzsR7_yZfCqt",
        "colab_type": "text"
      },
      "source": [
        "3.Python Program to append the contents of one file to another file "
      ]
    },
    {
      "cell_type": "code",
      "metadata": {
        "id": "8Ho7QHB7fHyQ",
        "colab_type": "code",
        "colab": {
          "base_uri": "https://localhost:8080/",
          "height": 51
        },
        "outputId": "9a8aa106-4d54-4133-c1e4-b371cca1ad2a"
      },
      "source": [
        "name1 = input(\"Enter file to be read from: \")\n",
        "name2 = input(\"Enter file to be appended to: \")\n",
        "fin = open(name1, \"r\")\n",
        "data2 = fin.read()\n",
        "fin.close()\n",
        "fout = open(name2, \"a\")\n",
        "fout.write(data2)\n",
        "fout.close()"
      ],
      "execution_count": null,
      "outputs": [
        {
          "output_type": "stream",
          "text": [
            "Enter file to be read from: /content/file1.txt\n",
            "Enter file to be appended to: /content/file2.txt\n"
          ],
          "name": "stdout"
        }
      ]
    },
    {
      "cell_type": "markdown",
      "metadata": {
        "id": "bIDFmv8DfX8d",
        "colab_type": "text"
      },
      "source": [
        "4.Python Program to count the number of blank spaces in a text file"
      ]
    },
    {
      "cell_type": "code",
      "metadata": {
        "id": "XP-37j_5fcMF",
        "colab_type": "code",
        "colab": {
          "base_uri": "https://localhost:8080/",
          "height": 68
        },
        "outputId": "78312bd1-f419-4d41-bb50-a9a060baf190"
      },
      "source": [
        "fname = input(\"Enter file name: \")\n",
        "k = 0\n",
        "\n",
        "with open(fname, 'r') as f:\n",
        "    for line in f:\n",
        "        words = line.split()\n",
        "        for i in words:\n",
        "            for letter in i:\n",
        "                if(letter.isspace):\n",
        "                    k=k+1\n",
        "print(\"Occurrences of blank spaces:\")\n",
        "print(k)"
      ],
      "execution_count": null,
      "outputs": [
        {
          "output_type": "stream",
          "text": [
            "Enter file name: /content/file2.txt\n",
            "Occurrences of blank spaces:\n",
            "79\n"
          ],
          "name": "stdout"
        }
      ]
    },
    {
      "cell_type": "markdown",
      "metadata": {
        "id": "4rBhAipEfnaD",
        "colab_type": "text"
      },
      "source": [
        "5.Python Program to read a file and capitalize the first letter of every word in the file."
      ]
    },
    {
      "cell_type": "code",
      "metadata": {
        "id": "RBOd4fXEfs17",
        "colab_type": "code",
        "colab": {
          "base_uri": "https://localhost:8080/",
          "height": 187
        },
        "outputId": "801c90f9-d583-4b68-88ab-98e46f7a975e"
      },
      "source": [
        "fname = input(\"Enter file name: \")\n",
        "with open(fname, 'r') as f:\n",
        "    for line in f:\n",
        "        l=line.title()\n",
        "        print(l)"
      ],
      "execution_count": null,
      "outputs": [
        {
          "output_type": "stream",
          "text": [
            "Enter file name: /content/file1.txt\n",
            "Hello Everyone\n",
            "\n",
            "I Am Learning Python\n",
            "\n",
            "I Am Studying In Aiet\n",
            "\n",
            " I Am 20 Year Old\n",
            "\n",
            " I Am Studying In 3 Rd Year\n"
          ],
          "name": "stdout"
        }
      ]
    },
    {
      "cell_type": "markdown",
      "metadata": {
        "id": "puaO2uniieXO",
        "colab_type": "text"
      },
      "source": [
        ""
      ]
    }
  ]
}