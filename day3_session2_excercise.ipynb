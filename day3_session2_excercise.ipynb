{
  "nbformat": 4,
  "nbformat_minor": 0,
  "metadata": {
    "colab": {
      "name": "day3_session2_excercise.ipynb",
      "provenance": [],
      "authorship_tag": "ABX9TyM7r7SIlDnAo/bR8XwNIRP+",
      "include_colab_link": true
    },
    "kernelspec": {
      "name": "python3",
      "display_name": "Python 3"
    }
  },
  "cells": [
    {
      "cell_type": "markdown",
      "metadata": {
        "id": "view-in-github",
        "colab_type": "text"
      },
      "source": [
        "<a href=\"https://colab.research.google.com/github/sujaya15/Python_Workshop/blob/master/day3_session2_excercise.ipynb\" target=\"_parent\"><img src=\"https://colab.research.google.com/assets/colab-badge.svg\" alt=\"Open In Colab\"/></a>"
      ]
    },
    {
      "cell_type": "code",
      "metadata": {
        "id": "14HxjfTJKiYB",
        "colab_type": "code",
        "colab": {}
      },
      "source": [
        "Write a Python Program to Print Multiplication Table of a  number which got through keyboard\n",
        "\n",
        "a=[]\n",
        "n=int(input(\"enter the value of n\"))\n",
        "for i in range(1,11):\n",
        "  b=i*n\n",
        "  a.append(str(b))\n",
        "print(','.join(a))\n",
        "\n",
        "Write a  Python Program to find the Armstrong Numbers between 1 and 2000 \n",
        "\n",
        "a=[]\n",
        "for i in range(1,2001):\n",
        " temp=i\n",
        " d=0\n",
        " l=0\n",
        " s=0\n",
        " while(temp>0):\n",
        "  temp=temp//10\n",
        "  d=d+1\n",
        " temp=i\n",
        " while(temp>0):\n",
        "  l=temp%10\n",
        "  s=s+l**d\n",
        "  temp=temp//10\n",
        " if(s==i):\n",
        "  a.append(str(i))\n",
        "print(a)\n",
        "\n",
        "\n",
        "Write a python program to get the list of tuples (rollno, name) for n students by getting rollno and name through keyboard. Sort and print  them as rollno wise and name wise both ascending and descending as well as alphabetical and dealphabetical orders\n",
        "\n",
        "a=[]\n",
        "def inp():\n",
        "  rolno=input(\"enter the rolno\")\n",
        "  name=input(\"enter the name\")\n",
        "  return(rolno,name)\n",
        "n=int(input(\"Enter the value of n\"))\n",
        "for i in range(1,n+1):\n",
        "  a.append(inp())\n",
        "print(a)\n",
        "a.sort(key=lambda i:i[0])\n",
        "print(f'According to Rollno:Ascending order:{a}')\n",
        "print(f'According to Rollno:Descending order:{a[::-1]}')\n",
        "a.sort(key=lambda i:i[1])\n",
        "print(f'According to Name:Alphabeticallyorder:{a}')\n",
        "print(f'According to Name:Dealphabetically order:{a[::-1]}')\n",
        "\n",
        "Python Program to Detect if Two Strings are Anagrams ( They are  the two strings which have same length and same words which may be different in their order)\n",
        "\n",
        "s=input(\"Enter the first string\")\n",
        "s2=input(\"Enter the second string\")\n",
        "if(sorted(s)==sorted(s2)):\n",
        "  print(\"Strings are anagram\")\n",
        "else:\n",
        "  print(\"strings arent anagram\")"
      ],
      "execution_count": null,
      "outputs": []
    }
  ]
}