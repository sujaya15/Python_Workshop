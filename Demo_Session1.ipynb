{
  "nbformat": 4,
  "nbformat_minor": 0,
  "metadata": {
    "colab": {
      "name": "Demo_Session1.ipynb",
      "provenance": [],
      "authorship_tag": "ABX9TyOQ409rwzFbFpymDYSNyQ9R",
      "include_colab_link": true
    },
    "kernelspec": {
      "name": "python3",
      "display_name": "Python 3"
    }
  },
  "cells": [
    {
      "cell_type": "markdown",
      "metadata": {
        "id": "view-in-github",
        "colab_type": "text"
      },
      "source": [
        "<a href=\"https://colab.research.google.com/github/sujaya15/Python_Workshop/blob/master/Demo_Session1.ipynb\" target=\"_parent\"><img src=\"https://colab.research.google.com/assets/colab-badge.svg\" alt=\"Open In Colab\"/></a>"
      ]
    },
    {
      "cell_type": "code",
      "metadata": {
        "id": "yJzuNnwO8e7W",
        "colab_type": "code",
        "colab": {}
      },
      "source": [
        ""
      ],
      "execution_count": null,
      "outputs": []
    },
    {
      "cell_type": "code",
      "metadata": {
        "id": "GGFCoVpP3TJw",
        "colab_type": "code",
        "colab": {
          "base_uri": "https://localhost:8080/",
          "height": 68
        },
        "outputId": "b78ab24a-d131-43e8-f2d4-771c8bc00251"
      },
      "source": [
        "\n",
        "#Python Program to Add Two Numbers getting through key board\n",
        "\n",
        "# sum of two nos\n",
        "num1 = int(input(\"Enter first no\"))\n",
        "num2 = int(input(\"Enter second no\"))\n",
        "\n",
        "# Adding the two numbers\n",
        "sum = num1 + num2\n",
        "\n",
        "# Display the sum\n",
        "print('The sum of {0} and {1} is {2}'.format(num1, num2, sum))"
      ],
      "execution_count": null,
      "outputs": [
        {
          "output_type": "stream",
          "text": [
            "Enter first no 10\n",
            "Enter second no 20\n",
            "The sum of 10 and 20 is 30\n"
          ],
          "name": "stdout"
        }
      ]
    },
    {
      "cell_type": "code",
      "metadata": {
        "id": "-XM-groO3fv9",
        "colab_type": "code",
        "colab": {
          "base_uri": "https://localhost:8080/",
          "height": 51
        },
        "outputId": "674be7ac-528e-4a99-bc08-14dd9000cbda"
      },
      "source": [
        "#Python program to check if the input year is a leap year or not\n",
        "\n",
        "# To get year (integer input) from the user\n",
        "year = int(input(\"Enter a year: \"))\n",
        "\n",
        "if ((year % 4) == 0 and (year % 100)  != 0) or ((year % 400) == 0):\n",
        "           print(\"{0} is a leap year\".format(year))\n",
        "else:\n",
        "           print(\"{0} is not a leap year\".format(year))"
      ],
      "execution_count": null,
      "outputs": [
        {
          "output_type": "stream",
          "text": [
            "Enter a year: 2000\n",
            "2000 is a leap year\n"
          ],
          "name": "stdout"
        }
      ]
    },
    {
      "cell_type": "code",
      "metadata": {
        "id": "WIKwbtNa3svd",
        "colab_type": "code",
        "colab": {
          "base_uri": "https://localhost:8080/",
          "height": 34
        },
        "outputId": "394d176c-4951-45bf-ec6e-aeebcd44adf8"
      },
      "source": [
        "\n",
        "#Python Program to Generate a Random Number \n",
        "\n",
        "# Program to generate a random number between 0 and 9\n",
        "# import the random module\n",
        "import random\n",
        "print(random.randint(0,9))"
      ],
      "execution_count": null,
      "outputs": [
        {
          "output_type": "stream",
          "text": [
            "6\n"
          ],
          "name": "stdout"
        }
      ]
    },
    {
      "cell_type": "code",
      "metadata": {
        "id": "AeR3W3jS30UZ",
        "colab_type": "code",
        "colab": {
          "base_uri": "https://localhost:8080/",
          "height": 51
        },
        "outputId": "8e55b049-af1f-4c47-ac69-4edad264425f"
      },
      "source": [
        "#Python Program to Convert Kilometers to Miles \n",
        "\n",
        "# To take kilometers from the user, uncomment the code below\n",
        "kilometers = int(input(\"Enter value in kilometers\"))\n",
        "\n",
        "# conversion factor\n",
        "conv_fac = 0.621371\n",
        "\n",
        "# calculate miles\n",
        "miles = kilometers * conv_fac\n",
        "print('%0.3f kilometers is equal to %0.3f miles' %(kilometers,miles))"
      ],
      "execution_count": null,
      "outputs": [
        {
          "output_type": "stream",
          "text": [
            "Enter value in kilometers20\n",
            "20.000 kilometers is equal to 12.427 miles\n"
          ],
          "name": "stdout"
        }
      ]
    },
    {
      "cell_type": "code",
      "metadata": {
        "id": "m_UMF4yq3-wd",
        "colab_type": "code",
        "colab": {
          "base_uri": "https://localhost:8080/",
          "height": 85
        },
        "outputId": "eae66a6b-fb32-4d66-a107-7271d6f0e81b"
      },
      "source": [
        "#Python Program to Solve Quadratic Equation \n",
        "\n",
        "# Solve the quadratic equation ax**2 + bx + c = 0\n",
        "# importing  complex math module\n",
        "import cmath\n",
        "\n",
        " # To take coefficient input from the users\n",
        "a = float(input('Enter a: '))\n",
        "b = float(input('Enter b: '))\n",
        "c = float(input('Enter c: '))\n",
        "\n",
        "# calculate the discriminant\n",
        "d = (b**2) - (4*a*c)\n",
        "\n",
        "# find two solutions\n",
        "sol1 = (-b-cmath.sqrt(d))/(2*a)\n",
        "sol2 = (-b+cmath.sqrt(d))/(2*a)\n",
        "\n",
        "print('The solution are {0} and {1}'.format(sol1,sol2))"
      ],
      "execution_count": null,
      "outputs": [
        {
          "output_type": "stream",
          "text": [
            "Enter a:  10\n",
            "Enter b: 20\n",
            "Enter c: 30\n",
            "The solution are (-1-1.4142135623730951j) and (-1+1.4142135623730951j)\n"
          ],
          "name": "stdout"
        }
      ]
    },
    {
      "cell_type": "code",
      "metadata": {
        "id": "ZNEmIaoG4HFk",
        "colab_type": "code",
        "colab": {
          "base_uri": "https://localhost:8080/",
          "height": 51
        },
        "outputId": "e8940b54-59d9-472a-ff0e-f02897ee07ab"
      },
      "source": [
        "#Python Program to find prime or not using function \n",
        "def test_prime(n):\n",
        "    if (n==1):\n",
        "        return False\n",
        "    elif (n==2):\n",
        "        return True;\n",
        "    else:\n",
        "        for x in range(2,n):\n",
        "            if(n % x==0):\n",
        "                return False\n",
        "        return True\n",
        "no=int(input(\"Enter the number\"))\n",
        "if (test_prime(no)) is True :\n",
        "    print(\" {0} is a prime no\".format(no))\n",
        "else:\n",
        "     print(\" {0} is not a prime no\".format(no))"
      ],
      "execution_count": null,
      "outputs": [
        {
          "output_type": "stream",
          "text": [
            "Enter the number8\n",
            " 8 is not a prime no\n"
          ],
          "name": "stdout"
        }
      ]
    },
    {
      "cell_type": "code",
      "metadata": {
        "id": "BVDABlex4aM4",
        "colab_type": "code",
        "colab": {
          "base_uri": "https://localhost:8080/",
          "height": 1000
        },
        "outputId": "981ca8b8-1dd3-44df-f8c2-36e297a98628"
      },
      "source": [
        "#CODING\"\"\"Calculator program\"\"\"\n",
        " \n",
        "loop = 1 # 1 means loop; anything else means don't loop.\n",
        "choice = 0 # This variable holds the user's choice in the menu\n",
        "\n",
        "def add(a,b):\n",
        "    return a+b \n",
        "def sub(a,b):\n",
        "    return a-b\n",
        "def mul(a,b):\n",
        "    return a*b\n",
        "def div(a,b):\n",
        "    return a/b\n",
        "\n",
        "while loop == 1:\n",
        "    # Print what options you have\n",
        "    print (\"Welcome to calculator.py\")\n",
        "    print (\"your options are:\")\n",
        "    print (\" \")\n",
        "    print(\"1) Addition\")\n",
        "    print(\"2) Subtraction\")\n",
        "    print(\"3) Multiplication\")\n",
        "    print(\"4) Division\")\n",
        "    print(\"5) Quit calculator.py\")\n",
        "    print(\" \")\n",
        "    try:\n",
        "        choice = int(input(\"Choose your option: \"))\n",
        "    except:\n",
        "        print('please enter a valid number for option')\n",
        "    print(\" \")\n",
        "    print(\" \")\n",
        "    if choice == 1:\n",
        "        x = int(input(\"Enter 1st no: \"))\n",
        "        y = int(input(\"Enter 2nd no: \"))\n",
        "        print(\"The answer is \",add(x,y))\n",
        "\n",
        "    elif choice == 2:\n",
        "        x = int(input(\"Enter 1st no: \"))\n",
        "        y = int(input(\"Enter 2nd no: \"))\n",
        "        print(\"answer is \",sub(x,y))\n",
        "  \n",
        "    elif choice == 3:\n",
        "        x = int(input(\"Enter 1st no: \"))\n",
        "        y = int(input(\"Enter 2nd no: \"))\n",
        "        print(\"answer is \",mul(x,y))\n",
        "\n",
        "    elif choice == 4:\n",
        "        x = int(input(\"Enter 1st no: \"))\n",
        "        y = int(input(\"Enter 2nd no: \"))\n",
        "        print(\"answer is \",div(x,y))\n",
        "        \n",
        "    elif choice == 5:\n",
        "        loop = 0\n",
        "     \n",
        "    else:\n",
        "        print(\"please choice a valid option from 1 to 5\")\n",
        "        choice=0\n",
        "print (\"Thank-you for using calculator.py!\")"
      ],
      "execution_count": null,
      "outputs": [
        {
          "output_type": "stream",
          "text": [
            "Welcome to calculator.py\n",
            "your options are:\n",
            " \n",
            "1) Addition\n",
            "2) Subtraction\n",
            "3) Multiplication\n",
            "4) Division\n",
            "5) Quit calculator.py\n",
            " \n",
            "Choose your option: 1\n",
            " \n",
            " \n",
            "Enter 1st no: 3\n",
            "Enter 2nd no: 6\n",
            "The answer is  9\n",
            "Welcome to calculator.py\n",
            "your options are:\n",
            " \n",
            "1) Addition\n",
            "2) Subtraction\n",
            "3) Multiplication\n",
            "4) Division\n",
            "5) Quit calculator.py\n",
            " \n",
            "Choose your option: 2\n",
            " \n",
            " \n",
            "Enter 1st no: 3\n",
            "Enter 2nd no: 6\n",
            "answer is  -3\n",
            "Welcome to calculator.py\n",
            "your options are:\n",
            " \n",
            "1) Addition\n",
            "2) Subtraction\n",
            "3) Multiplication\n",
            "4) Division\n",
            "5) Quit calculator.py\n",
            " \n",
            "Choose your option: 3\n",
            " \n",
            " \n",
            "Enter 1st no: 4\n",
            "Enter 2nd no: 6\n",
            "answer is  24\n",
            "Welcome to calculator.py\n",
            "your options are:\n",
            " \n",
            "1) Addition\n",
            "2) Subtraction\n",
            "3) Multiplication\n",
            "4) Division\n",
            "5) Quit calculator.py\n",
            " \n",
            "Choose your option: 4\n",
            " \n",
            " \n",
            "Enter 1st no: 8\n",
            "Enter 2nd no: 4\n",
            "answer is  2.0\n",
            "Welcome to calculator.py\n",
            "your options are:\n",
            " \n",
            "1) Addition\n",
            "2) Subtraction\n",
            "3) Multiplication\n",
            "4) Division\n",
            "5) Quit calculator.py\n",
            " \n",
            "Choose your option: 5\n",
            " \n",
            " \n",
            "Thank-you for using calculator.py!\n"
          ],
          "name": "stdout"
        }
      ]
    }
  ]
}