{
  "nbformat": 4,
  "nbformat_minor": 0,
  "metadata": {
    "colab": {
      "name": "day3_Session1_Excercise.ipynb",
      "provenance": [],
      "authorship_tag": "ABX9TyOKWpXj1ulqejQQivwrWWys",
      "include_colab_link": true
    },
    "kernelspec": {
      "name": "python3",
      "display_name": "Python 3"
    }
  },
  "cells": [
    {
      "cell_type": "markdown",
      "metadata": {
        "id": "view-in-github",
        "colab_type": "text"
      },
      "source": [
        "<a href=\"https://colab.research.google.com/github/sujaya15/Python_Workshop/blob/master/day3_Session1_Excercise.ipynb\" target=\"_parent\"><img src=\"https://colab.research.google.com/assets/colab-badge.svg\" alt=\"Open In Colab\"/></a>"
      ]
    },
    {
      "cell_type": "markdown",
      "metadata": {
        "id": "iD8Y42fSpf2v",
        "colab_type": "text"
      },
      "source": [
        "Write a Python program to find numbers between 100 and 400 (both included) which are divisable both by 5 or 7. The numbers obtained should be printed in a comma-separated sequence"
      ]
    },
    {
      "cell_type": "code",
      "metadata": {
        "id": "-aV85Eiqpjhk",
        "colab_type": "code",
        "colab": {
          "base_uri": "https://localhost:8080/",
          "height": 34
        },
        "outputId": "391f508a-31c3-4cd0-9a8c-6da0447890f7"
      },
      "source": [
        "a=[]\n",
        "for i in range(100,400):\n",
        "  if(i%5==0 and i%7==0):\n",
        "    a.append(str(i))\n",
        "print(','.join(a))"
      ],
      "execution_count": null,
      "outputs": [
        {
          "output_type": "stream",
          "text": [
            "105,140,175,210,245,280,315,350,385\n"
          ],
          "name": "stdout"
        }
      ]
    },
    {
      "cell_type": "markdown",
      "metadata": {
        "id": "xhnChEFzrLpJ",
        "colab_type": "text"
      },
      "source": [
        "Write a Python program to find  prime numbers between 200 and 600 (both included). The numbers obtained should be printed in a comma-separated sequence"
      ]
    },
    {
      "cell_type": "code",
      "metadata": {
        "id": "MMms3biNrR6K",
        "colab_type": "code",
        "colab": {
          "base_uri": "https://localhost:8080/",
          "height": 54
        },
        "outputId": "a131548e-0a71-437b-b6fd-210dc810e72b"
      },
      "source": [
        "a=[]\n",
        "for num1 in range(200, 600):\n",
        "      if num1 > 1:\n",
        "       for i in range(2, num1):\n",
        "           if (num1 % i) == 0:\n",
        "               break\n",
        "       else:\n",
        "              k=num1\n",
        "              a.append(str(num1))\n",
        "print(','.join(a))"
      ],
      "execution_count": null,
      "outputs": [
        {
          "output_type": "stream",
          "text": [
            "211,223,227,229,233,239,241,251,257,263,269,271,277,281,283,293,307,311,313,317,331,337,347,349,353,359,367,373,379,383,389,397,401,409,419,421,431,433,439,443,449,457,461,463,467,479,487,491,499,503,509,521,523,541,547,557,563,569,571,577,587,593,599\n"
          ],
          "name": "stdout"
        }
      ]
    },
    {
      "cell_type": "markdown",
      "metadata": {
        "id": "kZaqMX-VtPbX",
        "colab_type": "text"
      },
      "source": [
        "Write a Python program to find All Numbers which are Odd and Palindromes Between a Range of Numbers without using Recursion. The numbers obtained should be printed in a comma-separated sequence"
      ]
    },
    {
      "cell_type": "code",
      "metadata": {
        "id": "kkXQr_SBtUqK",
        "colab_type": "code",
        "colab": {
          "base_uri": "https://localhost:8080/",
          "height": 68
        },
        "outputId": "638a38c7-2461-479b-c8e2-467434f38ab1"
      },
      "source": [
        "a=[]\n",
        "n1=int(input('Enter the upper range'))\n",
        "n2=int(input(\"enter the lower range\"))\n",
        "for i in range(n1,n2):\n",
        "    if(i%2!=0):\n",
        "      temp=i\n",
        "      rev=0\n",
        "      while(temp>0):\n",
        "          rem=temp%10\n",
        "          rev=(rev*10)+rem\n",
        "          temp=temp//10\n",
        "      if(i==rev):\n",
        "        a.append(str(i))\n",
        "print(','.join(a))"
      ],
      "execution_count": null,
      "outputs": [
        {
          "output_type": "stream",
          "text": [
            "Enter the upper range100\n",
            "enter the lower range200\n",
            "101,111,121,131,141,151,161,171,181,191\n"
          ],
          "name": "stdout"
        }
      ]
    },
    {
      "cell_type": "markdown",
      "metadata": {
        "id": "7NFiT_PvyA8q",
        "colab_type": "text"
      },
      "source": [
        "Write a Python Program to read a number n and print the series “5+10+…..+n = sum upto n ” . The numbers should be printed  as they are  shown in the quotes with sum of numbers upto n "
      ]
    },
    {
      "cell_type": "code",
      "metadata": {
        "id": "VHqUVbGayMTz",
        "colab_type": "code",
        "colab": {
          "base_uri": "https://localhost:8080/",
          "height": 51
        },
        "outputId": "3e451f1a-1ae1-49d7-bdf1-64fbc739b38e"
      },
      "source": [
        "a=[]\n",
        "b=0\n",
        "n=int(input(\"Enter the value of n\"))\n",
        "while(b<n):\n",
        "  b=5+b\n",
        "  a.append(str(b))\n",
        "print('+'.join(a))"
      ],
      "execution_count": null,
      "outputs": [
        {
          "output_type": "stream",
          "text": [
            "Enter the value of n50\n",
            "5+10+15+20+25+30+35+40+45+50\n"
          ],
          "name": "stdout"
        }
      ]
    }
  ]
}